{
 "metadata": {
  "language_info": {
   "codemirror_mode": {
    "name": "ipython",
    "version": 3
   },
   "file_extension": ".py",
   "mimetype": "text/x-python",
   "name": "python",
   "nbconvert_exporter": "python",
   "pygments_lexer": "ipython3",
   "version": "3.9.0-final"
  },
  "orig_nbformat": 2,
  "kernelspec": {
   "name": "python3",
   "display_name": "Python 3.9.0 64-bit",
   "metadata": {
    "interpreter": {
     "hash": "7b125b9ef9b766a9e6ed85f30bb6045a0227009bea5b044b35177f2649908091"
    }
   }
  }
 },
 "nbformat": 4,
 "nbformat_minor": 2,
 "cells": [
  {
   "cell_type": "code",
   "execution_count": 2,
   "metadata": {},
   "outputs": [
    {
     "output_type": "stream",
     "name": "stdout",
     "text": [
      "Collecting PyNeb\n",
      "  Downloading PyNeb-1.1.14.tar.gz (25.1 MB)\n",
      "Using legacy 'setup.py install' for PyNeb, since package 'wheel' is not installed.\n",
      "WARNING: You are using pip version 20.2.3; however, version 21.0.1 is available.\n",
      "You should consider upgrading via the 'c:\\users\\sgong\\appdata\\local\\programs\\python\\python39\\python.exe -m pip install --upgrade pip' command.\n",
      "Installing collected packages: PyNeb\n",
      "    Running setup.py install for PyNeb: started\n",
      "    Running setup.py install for PyNeb: finished with status 'done'\n",
      "Successfully installed PyNeb-1.1.14\n"
     ]
    }
   ],
   "source": [
    "!pip install --user PyNeb "
   ]
  },
  {
   "cell_type": "code",
   "execution_count": 5,
   "metadata": {},
   "outputs": [],
   "source": [
    "%matplotlib inline\n",
    "from os import getcwd\n",
    "import numpy as np\n",
    "import matplotlib.pyplot as plt\n",
    "import pyneb as pn\n",
    "import pandas as pd"
   ]
  },
  {
   "source": [
    "SELECT TOP 100\n",
    "s.specObjID, s.oiii_4363_flux, s.oiii_4363_flux_err, s.h_beta_flux, s.h_beta_flux_err, s.specObjID\n",
    "\n",
    "FROM\n",
    "galSpecLine AS s\n",
    "\n",
    "\n",
    "WHERE\n",
    "s.oiii_4363_flux > 0 AND s.oiii_4363_flux > 3*s.oiii_4363_flux_err"
   ],
   "cell_type": "markdown",
   "metadata": {}
  },
  {
   "source": [
    "Derivar 12+log(O/H) con  el método directo y con alguna de las calibraciones de strong lines.\n",
    "- Nos da la metalicidad"
   ],
   "cell_type": "markdown",
   "metadata": {}
  },
  {
   "cell_type": "code",
   "execution_count": 12,
   "metadata": {},
   "outputs": [
    {
     "output_type": "stream",
     "name": "stdout",
     "text": [
      "Index(['specObjID', 'oiii_4363_flux', 'oiii_4363_flux_err', 'h_beta_flux',\n       'h_beta_flux_err', 'specObjID1'],\n      dtype='object')\n0    -2.315057\n1    -4.245671\n2    -4.752664\n3     0.108808\n4     0.108109\n        ...   \n95    2.490288\n96    0.013791\n97    1.120235\n98    0.063338\n99    0.211826\nLength: 100, dtype: float64\n"
     ]
    }
   ],
   "source": [
    "test_df = pd.read_csv(getcwd() + '/Datos/Datos1.csv')\n",
    "print(test_df.columns)\n",
    "print(test_df['oiii_4363_flux']/test_df['h_beta_flux'])"
   ]
  },
  {
   "source": [
    "1) Chequear si los flujos están o no corregidos de extinción usando el cociente Hα/Hβ.Explica las hipótesis realizadas para hacer esta corrección"
   ],
   "cell_type": "markdown",
   "metadata": {}
  },
  {
   "cell_type": "code",
   "execution_count": null,
   "metadata": {},
   "outputs": [],
   "source": []
  }
 ]
}