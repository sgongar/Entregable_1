{
 "metadata": {
  "language_info": {
   "codemirror_mode": {
    "name": "ipython",
    "version": 3
   },
   "file_extension": ".py",
   "mimetype": "text/x-python",
   "name": "python",
   "nbconvert_exporter": "python",
   "pygments_lexer": "ipython3",
   "version": "3.9.0-final"
  },
  "orig_nbformat": 2,
  "kernelspec": {
   "name": "python3",
   "display_name": "Python 3.9.0 64-bit",
   "metadata": {
    "interpreter": {
     "hash": "7b125b9ef9b766a9e6ed85f30bb6045a0227009bea5b044b35177f2649908091"
    }
   }
  }
 },
 "nbformat": 4,
 "nbformat_minor": 2,
 "cells": [
  {
   "source": [
    "# Calculo de la metalicidad de una muestra de galaxias"
   ],
   "cell_type": "markdown",
   "metadata": {}
  },
  {
   "source": [
    "## Importa las librerias necesarias"
   ],
   "cell_type": "markdown",
   "metadata": {}
  },
  {
   "cell_type": "code",
   "execution_count": 5,
   "metadata": {},
   "outputs": [
    {
     "output_type": "stream",
     "name": "stdout",
     "text": [
      "Requirement already satisfied: PyNeb in c:\\users\\sgong\\appdata\\roaming\\python\\python39\\site-packages (1.1.14)\n",
      "WARNING: You are using pip version 20.2.3; however, version 21.0.1 is available.\n",
      "You should consider upgrading via the 'c:\\users\\sgong\\appdata\\local\\programs\\python\\python39\\python.exe -m pip install --upgrade pip' command.\n"
     ]
    }
   ],
   "source": [
    "!pip install --user PyNeb "
   ]
  },
  {
   "cell_type": "code",
   "execution_count": 6,
   "metadata": {},
   "outputs": [],
   "source": [
    "%matplotlib inline\n",
    "from os import getcwd\n",
    "import numpy as np\n",
    "import matplotlib.pyplot as plt\n",
    "import pyneb as pn\n",
    "import pandas as pd"
   ]
  },
  {
   "source": [
    "## Ejecuta la llamada a la base de datos de blabla para obtener los datos"
   ],
   "cell_type": "markdown",
   "metadata": {}
  },
  {
   "source": [
    "SELECT TOP 100\n",
    "s.specObjID, s.oiii_4363_flux, s.oiii_4363_flux_err, s.h_beta_flux, s.h_beta_flux_err, s.specObjID\n",
    "\n",
    "FROM\n",
    "galSpecLine AS s\n",
    "\n",
    "\n",
    "WHERE\n",
    "s.oiii_4363_flux > 0 AND s.oiii_4363_flux > 3*s.oiii_4363_flux_err"
   ],
   "cell_type": "markdown",
   "metadata": {}
  },
  {
   "source": [
    "Pero por lo que he visto, el método directo consiste simplemente en eso que comentáis, calcular cocientes de intensidades en I([OIII] 4363)/I(Hbeta), dividirlo por el cociente de emisividades de ambas especies a la temperatura electrónica (que se podría derivar -creo- por el cociente de 5007 y otra más) y multiplicarlo por una constante chachipiruli llamada \"ICF\", también conocida como \"Ionization Correction Factor\", que a partir de un n(OIII)/n(H) hace magia borrás y te da el cociente n(O)/n(H)\n",
    "\n",
    "Derivar 12+log(O/H) con  el método directo y con alguna de las calibraciones de strong lines.\n",
    "- Nos da la metalicidad"
   ],
   "cell_type": "markdown",
   "metadata": {}
  },
  {
   "source": [
    "Lineas disponibles: specObjID\tsigma_balmer\tsigma_balmer_err\tsigma_forbidden\tsigma_forbidden_err\tv_off_balmer\tv_off_balmer_err\tv_off_forbidden\tv_off_forbidden_err\toii_3726_cont\toii_3726_cont_err\toii_3726_reqw\toii_3726_reqw_err\toii_3726_eqw\toii_3726_eqw_err\toii_3726_flux\toii_3726_flux_err\toii_3726_inst_res\toii_3726_chisq\toii_3729_cont\toii_3729_cont_err\toii_3729_reqw\toii_3729_reqw_err\toii_3729_eqw\toii_3729_eqw_err\toii_3729_flux\toii_3729_flux_err\toii_3729_inst_res\toii_3729_chisq\tneiii_3869_cont\tneiii_3869_cont_err\tneiii_3869_reqw\tneiii_3869_reqw_err\tneiii_3869_eqw\tneiii_3869_eqw_err\tneiii_3869_flux\tneiii_3869_flux_err\tneiii_3869_inst_res\tneiii_3869_chisq\th_delta_cont\th_delta_cont_err\th_delta_reqw\th_delta_reqw_err\th_delta_eqw\th_delta_eqw_err\th_delta_flux\th_delta_flux_err\th_delta_inst_res\th_delta_chisq\th_gamma_cont\th_gamma_cont_err\th_gamma_reqw\th_gamma_reqw_err\th_gamma_eqw\th_gamma_eqw_err\th_gamma_flux\th_gamma_flux_err\th_gamma_inst_res\th_gamma_chisq\toiii_4363_cont\toiii_4363_cont_err\toiii_4363_reqw\toiii_4363_reqw_err\toiii_4363_eqw\toiii_4363_eqw_err\toiii_4363_flux\toiii_4363_flux_err\toiii_4363_inst_res\toiii_4363_chisq\th_beta_cont\th_beta_cont_err\th_beta_reqw\th_beta_reqw_err\th_beta_eqw\th_beta_eqw_err\th_beta_flux\th_beta_flux_err\th_beta_inst_res\th_beta_chisq\toiii_4959_cont\toiii_4959_cont_err\toiii_4959_reqw\toiii_4959_reqw_err\toiii_4959_eqw\toiii_4959_eqw_err\toiii_4959_flux\toiii_4959_flux_err\toiii_4959_inst_res\toiii_4959_chisq\toiii_5007_cont\toiii_5007_cont_err\toiii_5007_reqw\toiii_5007_reqw_err\toiii_5007_eqw\toiii_5007_eqw_err\toiii_5007_flux\toiii_5007_flux_err\toiii_5007_inst_res\toiii_5007_chisq\thei_5876_cont\thei_5876_cont_err\thei_5876_reqw\thei_5876_reqw_err\thei_5876_eqw\thei_5876_eqw_err\thei_5876_flux\thei_5876_flux_err\thei_5876_inst_res\thei_5876_chisq\toi_6300_cont\toi_6300_cont_err\toi_6300_reqw\toi_6300_reqw_err\toi_6300_eqw\toi_6300_eqw_err\toi_6300_flux\toi_6300_flux_err\toi_6300_inst_res\toi_6300_chisq\tnii_6548_cont\tnii_6548_cont_err\tnii_6548_reqw\tnii_6548_reqw_err\tnii_6548_eqw\tnii_6548_eqw_err\tnii_6548_flux\tnii_6548_flux_err\tnii_6548_inst_res\tnii_6548_chisq\th_alpha_cont\th_alpha_cont_err\th_alpha_reqw\th_alpha_reqw_err\th_alpha_eqw\th_alpha_eqw_err\th_alpha_flux\th_alpha_flux_err\th_alpha_inst_res\th_alpha_chisq\tnii_6584_cont\tnii_6584_cont_err\tnii_6584_reqw\tnii_6584_reqw_err\tnii_6584_eqw\tnii_6584_eqw_err\tnii_6584_flux\tnii_6584_flux_err\tnii_6584_inst_res\tnii_6584_chisq\tsii_6717_cont\tsii_6717_cont_err\tsii_6717_reqw\tsii_6717_reqw_err\tsii_6717_eqw\tsii_6717_eqw_err\tsii_6717_flux\tsii_6717_flux_err\tsii_6717_inst_res\tsii_6717_chisq\tsii_6731_cont\tsii_6731_cont_err\tsii_6731_reqw\tsii_6731_reqw_err\tsii_6731_eqw\tsii_6731_eqw_err\tsii_6731_flux\tsii_6731_flux_err\tsii_6731_inst_res\tsii_6731_chisq\tariii7135_cont\tariii7135_cont_err\tariii7135_reqw\tariii7135_reqw_err\tariii7135_eqw\tariii7135_eqw_err\tariii7135_flux\tariii7135_flux_err\tariii7135_inst_res\tariii7135_chisq\toii_sigma\toii_flux\toii_flux_err\toii_voff\toii_chi2\toiii_sigma\toiii_flux\toiii_flux_err\toiii_voff\toiii_chi2\tspectofiber"
   ],
   "cell_type": "markdown",
   "metadata": {}
  },
  {
   "cell_type": "code",
   "execution_count": 7,
   "metadata": {},
   "outputs": [
    {
     "output_type": "stream",
     "name": "stdout",
     "text": [
      "0           NaN\n1           NaN\n2           NaN\n3      9.781832\n4      9.775387\n        ...    \n95    12.912398\n96     7.716241\n97    12.113538\n98     9.240736\n99    10.448011\nLength: 100, dtype: float64\n"
     ]
    }
   ],
   "source": [
    "# Leo el fichero con los datos correspondientes a la llamada SQL\n",
    "df = pd.read_csv(getcwd() + '/Datos/Datos1.csv')"
   ]
  },
  {
   "source": [],
   "cell_type": "markdown",
   "metadata": {}
  },
  {
   "cell_type": "code",
   "execution_count": null,
   "metadata": {},
   "outputs": [],
   "source": [
    "# Calculo el cociente de lineas para obtener la temperatura electronica de cada una de las galaxias\n",
    "(df['oiii_4959_flux'] + df['oiii_5007_flux'])"
   ]
  },
  {
   "source": [
    "1) Chequear si los flujos están o no corregidos de extinción usando el cociente Hα/Hβ.Explica las hipótesis realizadas para hacer esta corrección"
   ],
   "cell_type": "markdown",
   "metadata": {}
  },
  {
   "source": [
    "$$ \\frac{a-1}{b-1} $$\n"
   ],
   "cell_type": "markdown",
   "metadata": {}
  },
  {
   "cell_type": "code",
   "execution_count": null,
   "metadata": {},
   "outputs": [],
   "source": []
  }
 ]
}